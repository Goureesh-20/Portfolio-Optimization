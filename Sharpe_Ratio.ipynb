{
 "cells": [
  {
   "cell_type": "code",
   "execution_count": 44,
   "metadata": {},
   "outputs": [],
   "source": [
    "import yfinance as yf\n",
    "import pandas as pd\n",
    "from datetime import datetime,timedelta\n",
    "import numpy as np\n",
    "from scipy.optimize import minimize\n",
    "import matplotlib.pyplot as plt\n",
    "from fredapi import Fred\n"
   ]
  },
  {
   "cell_type": "markdown",
   "metadata": {},
   "source": [
    "SPY: SPY is the ticker symbol for the SPDR S&P 500 ETF, an ETF that tracks the performance of the S&P 500 Index. It represents a broad selection of large-cap U.S. companies.\n",
    "\n",
    "BND: BND is the ticker symbol for the Vanguard Total Bond Market ETF, which seeks to track the performance of the Bloomberg Barclays U.S. Aggregate Float Adjusted Index. BND provides exposure to a diversified portfolio of U.S. investment-grade bonds.\n",
    "\n",
    "GLD: GLD is the ticker symbol for the SPDR Gold Shares ETF. It is designed to track the price of gold bullion and offers investors a way to invest in gold without physically owning it.\n",
    "\n",
    "QQQ: QQQ is the ticker symbol for the Invesco QQQ Trust, an ETF that tracks the performance of the Nasdaq-100 Index. The index includes 100 of the largest non-financial companies listed on the Nasdaq Stock Market.\n",
    "\n",
    "VTI: VTI is the ticker symbol for the Vanguard Total Stock Market ETF, which aims to track the performance of the CRSP US Total Market Index. VTI provides exposure to a wide range of U.S. stocks, including large-, mid-, small-, and micro-cap companies."
   ]
  },
  {
   "cell_type": "code",
   "execution_count": 45,
   "metadata": {},
   "outputs": [],
   "source": [
    "tickers=[\"SPY\",\"BND\",\"GLD\",\"QQQ\",\"VTI\"]"
   ]
  },
  {
   "cell_type": "code",
   "execution_count": 46,
   "metadata": {},
   "outputs": [],
   "source": [
    "end_date = datetime.today()\n",
    "start_date = end_date - timedelta(days=8*365)"
   ]
  },
  {
   "cell_type": "code",
   "execution_count": 47,
   "metadata": {},
   "outputs": [
    {
     "name": "stdout",
     "output_type": "stream",
     "text": [
      "[*********************100%***********************]  1 of 1 completed\n",
      "[*********************100%***********************]  1 of 1 completed\n",
      "[*********************100%***********************]  1 of 1 completed\n",
      "[*********************100%***********************]  1 of 1 completed\n",
      "[*********************100%***********************]  1 of 1 completed\n"
     ]
    }
   ],
   "source": [
    "adj_close_df = pd.DataFrame()\n",
    "for ticker in tickers:\n",
    "    data = yf.download(ticker,start= start_date,end= end_date)\n",
    "    adj_close_df[ticker] = data[\"Adj Close\"]"
   ]
  },
  {
   "cell_type": "markdown",
   "metadata": {},
   "source": [
    "The resulting log return values will represent the daily percentage changes in the adjusted closing prices of the financial asset or security."
   ]
  },
  {
   "cell_type": "code",
   "execution_count": 48,
   "metadata": {},
   "outputs": [],
   "source": [
    "log_return = np.log(adj_close_df/adj_close_df.shift(1))"
   ]
  },
  {
   "cell_type": "code",
   "execution_count": 49,
   "metadata": {},
   "outputs": [],
   "source": [
    "log_return = log_return.dropna()"
   ]
  },
  {
   "cell_type": "markdown",
   "metadata": {},
   "source": [
    "252 represents the approximate number of trading days in a year, assuming there are no holidays or weekends."
   ]
  },
  {
   "cell_type": "code",
   "execution_count": 50,
   "metadata": {},
   "outputs": [
    {
     "data": {
      "text/html": [
       "<div>\n",
       "<style scoped>\n",
       "    .dataframe tbody tr th:only-of-type {\n",
       "        vertical-align: middle;\n",
       "    }\n",
       "\n",
       "    .dataframe tbody tr th {\n",
       "        vertical-align: top;\n",
       "    }\n",
       "\n",
       "    .dataframe thead th {\n",
       "        text-align: right;\n",
       "    }\n",
       "</style>\n",
       "<table border=\"1\" class=\"dataframe\">\n",
       "  <thead>\n",
       "    <tr style=\"text-align: right;\">\n",
       "      <th></th>\n",
       "      <th>SPY</th>\n",
       "      <th>BND</th>\n",
       "      <th>GLD</th>\n",
       "      <th>QQQ</th>\n",
       "      <th>VTI</th>\n",
       "    </tr>\n",
       "  </thead>\n",
       "  <tbody>\n",
       "    <tr>\n",
       "      <th>SPY</th>\n",
       "      <td>0.035301</td>\n",
       "      <td>0.001105</td>\n",
       "      <td>0.000821</td>\n",
       "      <td>0.040216</td>\n",
       "      <td>0.035913</td>\n",
       "    </tr>\n",
       "    <tr>\n",
       "      <th>BND</th>\n",
       "      <td>0.001105</td>\n",
       "      <td>0.002957</td>\n",
       "      <td>0.002876</td>\n",
       "      <td>0.001500</td>\n",
       "      <td>0.001185</td>\n",
       "    </tr>\n",
       "    <tr>\n",
       "      <th>GLD</th>\n",
       "      <td>0.000821</td>\n",
       "      <td>0.002876</td>\n",
       "      <td>0.019866</td>\n",
       "      <td>0.001517</td>\n",
       "      <td>0.000915</td>\n",
       "    </tr>\n",
       "    <tr>\n",
       "      <th>QQQ</th>\n",
       "      <td>0.040216</td>\n",
       "      <td>0.001500</td>\n",
       "      <td>0.001517</td>\n",
       "      <td>0.053027</td>\n",
       "      <td>0.040883</td>\n",
       "    </tr>\n",
       "    <tr>\n",
       "      <th>VTI</th>\n",
       "      <td>0.035913</td>\n",
       "      <td>0.001185</td>\n",
       "      <td>0.000915</td>\n",
       "      <td>0.040883</td>\n",
       "      <td>0.036825</td>\n",
       "    </tr>\n",
       "  </tbody>\n",
       "</table>\n",
       "</div>"
      ],
      "text/plain": [
       "          SPY       BND       GLD       QQQ       VTI\n",
       "SPY  0.035301  0.001105  0.000821  0.040216  0.035913\n",
       "BND  0.001105  0.002957  0.002876  0.001500  0.001185\n",
       "GLD  0.000821  0.002876  0.019866  0.001517  0.000915\n",
       "QQQ  0.040216  0.001500  0.001517  0.053027  0.040883\n",
       "VTI  0.035913  0.001185  0.000915  0.040883  0.036825"
      ]
     },
     "execution_count": 50,
     "metadata": {},
     "output_type": "execute_result"
    }
   ],
   "source": [
    "cov_matrix = log_return.cov()*252\n",
    "cov_matrix"
   ]
  },
  {
   "cell_type": "code",
   "execution_count": 51,
   "metadata": {},
   "outputs": [],
   "source": [
    "def std_dev (weights, cov_matrix):\n",
    "    variance = weights.T @ cov_matrix @ weights\n",
    "    return np.sqrt(variance)"
   ]
  },
  {
   "cell_type": "code",
   "execution_count": 52,
   "metadata": {},
   "outputs": [],
   "source": [
    "def exp_return(weights, log_return):\n",
    "    return np.sum(log_return.mean()*weights*252)"
   ]
  },
  {
   "cell_type": "code",
   "execution_count": 53,
   "metadata": {},
   "outputs": [],
   "source": [
    "def sharpe_ratio (weights, log_return, cov_matrix, risk_free_rate):\n",
    "    return((exp_return(weights, log_return)-risk_free_rate)/std_dev (weights, cov_matrix))"
   ]
  },
  {
   "cell_type": "markdown",
   "metadata": {},
   "source": [
    "Risk-free rate approximation: The risk-free rate represents the return an investor can expect to earn with certainty, without taking any risk. In practice, no investment is entirely risk-free, but certain government securities, like ten-year Treasury bonds, are considered to be very close to risk-free. These bonds are backed by the U.S. government, which is considered one of the most creditworthy entities in the world. As a result, the ten-year Treasury rate is often used as a practical approximation of the risk-free rate.\n",
    "\n",
    "Long-term investment horizon: The ten-year Treasury rate is based on ten-year government bonds' yields, which means it represents a longer-term interest rate. The Sharpe Ratio is often used to assess the risk-adjusted performance of investments over extended periods, and using a long-term risk-free rate aligns with this investment horizon."
   ]
  },
  {
   "cell_type": "code",
   "execution_count": 54,
   "metadata": {},
   "outputs": [
    {
     "name": "stdout",
     "output_type": "stream",
     "text": [
      "0.0375\n"
     ]
    }
   ],
   "source": [
    "#risk_free_rate = 0.02 The industry standard is 0.2 \n",
    "\n",
    "fred = Fred(api_key=\"9ee5fbf7ac7d254b7ebcaff0633be1e4\")\n",
    "treasury_rate = fred.get_series_latest_release(\"GS10\")/100\n",
    "\n",
    "risk_free_rate = treasury_rate.iloc[-1]\n",
    "print(risk_free_rate)"
   ]
  },
  {
   "cell_type": "markdown",
   "metadata": {},
   "source": [
    "Scipy.optimize.minimize() function is being used so we have to find the negative sharpe ration"
   ]
  },
  {
   "cell_type": "code",
   "execution_count": 55,
   "metadata": {},
   "outputs": [],
   "source": [
    "def neg_sharpe_ratio (weights, log_return, cov_matrix, risk_free_rate):\n",
    "    return(-sharpe_ratio(weights,log_return,cov_matrix,risk_free_rate))"
   ]
  },
  {
   "cell_type": "code",
   "execution_count": 56,
   "metadata": {},
   "outputs": [],
   "source": [
    "constraints = {\"type\": \"eq\",\"fun\": lambda weights: np.sum(weights)-1}\n",
    "bounds = [(0,0.4) for _ in range(len(tickers))]"
   ]
  },
  {
   "cell_type": "code",
   "execution_count": 57,
   "metadata": {},
   "outputs": [
    {
     "name": "stdout",
     "output_type": "stream",
     "text": [
      "[0.2 0.2 0.2 0.2 0.2]\n"
     ]
    }
   ],
   "source": [
    "init_weights = np.array([1/len(tickers)]*len(tickers))\n",
    "print(init_weights)"
   ]
  },
  {
   "cell_type": "markdown",
   "metadata": {},
   "source": [
    "SLSQP stands for \"Sequential Least Squares Programming,\" and it is a type of numerical optimization algorithm used to solve constrained nonlinear optimization problems. The SLSQP algorithm is particularly well-suited for problems with both equality and inequality constraints.\n",
    "\n",
    "In the context of finance and portfolio optimization, SLSQP can be employed to find the optimal weights for different assets in a portfolio. The objective is typically to maximize returns while considering various constraints, such as risk tolerance, target return, and limits on the allocation to individual assets.\n",
    "\n",
    "The algorithm starts with an initial set of weights and iteratively updates them to find the optimal solution. It employs a combination of gradient-based optimization techniques (utilizing derivatives) and quadratic programming to handle the constraints efficiently."
   ]
  },
  {
   "cell_type": "code",
   "execution_count": 58,
   "metadata": {},
   "outputs": [
    {
     "name": "stdout",
     "output_type": "stream",
     "text": [
      "     fun: -0.5497006289750983\n",
      "     jac: array([-0.17109872, -0.02211902, -0.24766543, -0.32761501, -0.12439585])\n",
      " message: 'Optimization terminated successfully'\n",
      "    nfev: 30\n",
      "     nit: 5\n",
      "    njev: 5\n",
      "  status: 0\n",
      " success: True\n",
      "       x: array([2.00000000e-01, 1.11022302e-16, 4.00000000e-01, 4.00000000e-01,\n",
      "       5.89805982e-17])\n"
     ]
    }
   ],
   "source": [
    "opti_results = minimize(neg_sharpe_ratio,init_weights,args=(log_return,cov_matrix,risk_free_rate),method=\"SLSQP\", constraints=constraints,bounds=bounds)\n",
    "\n",
    "print(opti_results)"
   ]
  },
  {
   "cell_type": "code",
   "execution_count": 59,
   "metadata": {},
   "outputs": [
    {
     "name": "stdout",
     "output_type": "stream",
     "text": [
      "[2.00000000e-01 1.11022302e-16 4.00000000e-01 4.00000000e-01\n",
      " 5.89805982e-17]\n"
     ]
    }
   ],
   "source": [
    "optimal_weights = opti_results.x\n",
    "print(optimal_weights)"
   ]
  },
  {
   "cell_type": "code",
   "execution_count": 60,
   "metadata": {},
   "outputs": [
    {
     "name": "stdout",
     "output_type": "stream",
     "text": [
      "Optimal Weights:\n",
      "SPY: 0.2000\n",
      "BND: 0.0000\n",
      "GLD: 0.4000\n",
      "QQQ: 0.4000\n",
      "VTI: 0.0000\n",
      "\n",
      "Expected Annual Return: 0.1155\n",
      "Expected Volatility: 0.1419\n",
      "Sharpe Ratio: 0.5497\n"
     ]
    }
   ],
   "source": [
    "print (\"Optimal Weights:\")\n",
    "for ticker, weight in zip(tickers, optimal_weights):\n",
    "    print(f\"{ticker}: {weight:.4f}\")\n",
    "\n",
    "print ()\n",
    "\n",
    "optimal_portfolio_return = exp_return(optimal_weights, log_return)\n",
    "optimal_portfolio_volatility = std_dev(optimal_weights, cov_matrix)\n",
    "optimal_sharpe_ratio = sharpe_ratio(optimal_weights, log_return, cov_matrix, risk_free_rate)\n",
    "\n",
    "print (f\"Expected Annual Return: {optimal_portfolio_return:.4f}\")\n",
    "print (f\"Expected Volatility: {optimal_portfolio_volatility:.4f}\")\n",
    "print(f\"Sharpe Ratio: {optimal_sharpe_ratio:.4f}\")"
   ]
  },
  {
   "cell_type": "code",
   "execution_count": 61,
   "metadata": {},
   "outputs": [
    {
     "data": {
      "image/png": "[encoded data removed]",
      "text/plain": [
       "<Figure size 720x432 with 1 Axes>"
      ]
     },
     "metadata": {
      "needs_background": "light"
     },
     "output_type": "display_data"
    }
   ],
   "source": [
    "plt.figure(figsize=(10,6))\n",
    "plt.bar(tickers, optimal_weights)\n",
    "\n",
    "plt.xlabel(\"Assets\")\n",
    "plt.ylabel(\"Optimal Weights\")\n",
    "plt.title(\"Optimal Portfolio Weights\")\n",
    "\n",
    "plt.show()"
   ]
  }
 ],
 "metadata": {
  "kernelspec": {
   "display_name": "base",
   "language": "python",
   "name": "python3"
  },
  "language_info": {
   "codemirror_mode": {
    "name": "ipython",
    "version": 3
   },
   "file_extension": ".py",
   "mimetype": "text/x-python",
   "name": "python",
   "nbconvert_exporter": "python",
   "pygments_lexer": "ipython3",
   "version": "3.9.12"
  },
  "orig_nbformat": 4
 },
 "nbformat": 4,
 "nbformat_minor": 2
}
