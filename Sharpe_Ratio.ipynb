{
 "cells": [
  {
   "cell_type": "code",
   "execution_count": 20,
   "metadata": {},
   "outputs": [],
   "source": [
    "import yfinance as yf\n",
    "import pandas as pd\n",
    "from datetime import datetime,timedelta\n",
    "import numpy as np\n",
    "from scipy.optimize import minimize\n",
    "import matplotlib.pyplot as plt\n"
   ]
  },
  {
   "cell_type": "code",
   "execution_count": 2,
   "metadata": {},
   "outputs": [],
   "source": [
    "tickers=[\"SPY\",\"BND\",\"GLD\",\"QQQ\",\"VTI\"]"
   ]
  },
  {
   "cell_type": "code",
   "execution_count": 3,
   "metadata": {},
   "outputs": [],
   "source": [
    "end_date = datetime.today()\n",
    "start_date = end_date - timedelta(days=5*365)"
   ]
  },
  {
   "cell_type": "code",
   "execution_count": 4,
   "metadata": {},
   "outputs": [
    {
     "name": "stdout",
     "output_type": "stream",
     "text": [
      "[*********************100%***********************]  1 of 1 completed\n",
      "[*********************100%***********************]  1 of 1 completed\n",
      "[*********************100%***********************]  1 of 1 completed\n",
      "[*********************100%***********************]  1 of 1 completed\n",
      "[*********************100%***********************]  1 of 1 completed\n"
     ]
    }
   ],
   "source": [
    "adj_close_df = pd.DataFrame()\n",
    "for ticker in tickers:\n",
    "    data = yf.download(ticker,start= start_date,end= end_date)\n",
    "    adj_close_df[ticker] = data[\"Adj Close\"]"
   ]
  },
  {
   "cell_type": "markdown",
   "metadata": {},
   "source": [
    "The resulting log return values will represent the daily percentage changes in the adjusted closing prices of the financial asset or security."
   ]
  },
  {
   "cell_type": "code",
   "execution_count": 5,
   "metadata": {},
   "outputs": [],
   "source": [
    "log_return = np.log(adj_close_df/adj_close_df.shift(1))"
   ]
  },
  {
   "cell_type": "code",
   "execution_count": 6,
   "metadata": {},
   "outputs": [],
   "source": [
    "log_return = log_return.dropna()"
   ]
  },
  {
   "cell_type": "markdown",
   "metadata": {},
   "source": [
    "252 represents the approximate number of trading days in a year, assuming there are no holidays or weekends."
   ]
  },
  {
   "cell_type": "code",
   "execution_count": 7,
   "metadata": {},
   "outputs": [
    {
     "data": {
      "text/html": [
       "<div>\n",
       "<style scoped>\n",
       "    .dataframe tbody tr th:only-of-type {\n",
       "        vertical-align: middle;\n",
       "    }\n",
       "\n",
       "    .dataframe tbody tr th {\n",
       "        vertical-align: top;\n",
       "    }\n",
       "\n",
       "    .dataframe thead th {\n",
       "        text-align: right;\n",
       "    }\n",
       "</style>\n",
       "<table border=\"1\" class=\"dataframe\">\n",
       "  <thead>\n",
       "    <tr style=\"text-align: right;\">\n",
       "      <th></th>\n",
       "      <th>SPY</th>\n",
       "      <th>BND</th>\n",
       "      <th>GLD</th>\n",
       "      <th>QQQ</th>\n",
       "      <th>VTI</th>\n",
       "    </tr>\n",
       "  </thead>\n",
       "  <tbody>\n",
       "    <tr>\n",
       "      <th>SPY</th>\n",
       "      <td>0.046225</td>\n",
       "      <td>0.002290</td>\n",
       "      <td>0.003000</td>\n",
       "      <td>0.052557</td>\n",
       "      <td>0.047216</td>\n",
       "    </tr>\n",
       "    <tr>\n",
       "      <th>BND</th>\n",
       "      <td>0.002290</td>\n",
       "      <td>0.004167</td>\n",
       "      <td>0.003551</td>\n",
       "      <td>0.002860</td>\n",
       "      <td>0.002423</td>\n",
       "    </tr>\n",
       "    <tr>\n",
       "      <th>GLD</th>\n",
       "      <td>0.003000</td>\n",
       "      <td>0.003551</td>\n",
       "      <td>0.021920</td>\n",
       "      <td>0.004352</td>\n",
       "      <td>0.003156</td>\n",
       "    </tr>\n",
       "    <tr>\n",
       "      <th>QQQ</th>\n",
       "      <td>0.052557</td>\n",
       "      <td>0.002860</td>\n",
       "      <td>0.004352</td>\n",
       "      <td>0.068724</td>\n",
       "      <td>0.053659</td>\n",
       "    </tr>\n",
       "    <tr>\n",
       "      <th>VTI</th>\n",
       "      <td>0.047216</td>\n",
       "      <td>0.002423</td>\n",
       "      <td>0.003156</td>\n",
       "      <td>0.053659</td>\n",
       "      <td>0.048601</td>\n",
       "    </tr>\n",
       "  </tbody>\n",
       "</table>\n",
       "</div>"
      ],
      "text/plain": [
       "          SPY       BND       GLD       QQQ       VTI\n",
       "SPY  0.046225  0.002290  0.003000  0.052557  0.047216\n",
       "BND  0.002290  0.004167  0.003551  0.002860  0.002423\n",
       "GLD  0.003000  0.003551  0.021920  0.004352  0.003156\n",
       "QQQ  0.052557  0.002860  0.004352  0.068724  0.053659\n",
       "VTI  0.047216  0.002423  0.003156  0.053659  0.048601"
      ]
     },
     "execution_count": 7,
     "metadata": {},
     "output_type": "execute_result"
    }
   ],
   "source": [
    "cov_matrix = log_return.cov()*252\n",
    "cov_matrix"
   ]
  },
  {
   "cell_type": "code",
   "execution_count": 8,
   "metadata": {},
   "outputs": [],
   "source": [
    "def std_dev (weights, cov_matrix):\n",
    "    variance = weights.T @ cov_matrix @ weights\n",
    "    return np.sqrt(variance)"
   ]
  },
  {
   "cell_type": "code",
   "execution_count": 9,
   "metadata": {},
   "outputs": [],
   "source": [
    "def exp_return(weights, log_return):\n",
    "    return np.sum(log_return.mean()*weights*252)"
   ]
  },
  {
   "cell_type": "code",
   "execution_count": 10,
   "metadata": {},
   "outputs": [],
   "source": [
    "def sharpe_ratio (weights, log_return, cov_matrix, risk_free_rate):\n",
    "    return((exp_return(weights, log_return)-risk_free_rate)/std_dev (weights, cov_matrix))"
   ]
  },
  {
   "cell_type": "code",
   "execution_count": 11,
   "metadata": {},
   "outputs": [],
   "source": [
    "from fredapi import Fred"
   ]
  },
  {
   "cell_type": "markdown",
   "metadata": {},
   "source": [
    "Risk-free rate approximation: The risk-free rate represents the return an investor can expect to earn with certainty, without taking any risk. In practice, no investment is entirely risk-free, but certain government securities, like ten-year Treasury bonds, are considered to be very close to risk-free. These bonds are backed by the U.S. government, which is considered one of the most creditworthy entities in the world. As a result, the ten-year Treasury rate is often used as a practical approximation of the risk-free rate.\n",
    "\n",
    "Long-term investment horizon: The ten-year Treasury rate is based on ten-year government bonds' yields, which means it represents a longer-term interest rate. The Sharpe Ratio is often used to assess the risk-adjusted performance of investments over extended periods, and using a long-term risk-free rate aligns with this investment horizon."
   ]
  },
  {
   "cell_type": "code",
   "execution_count": 13,
   "metadata": {},
   "outputs": [
    {
     "name": "stdout",
     "output_type": "stream",
     "text": [
      "0.0375\n"
     ]
    }
   ],
   "source": [
    "risk_free_rate = 0.02\n",
    "\n",
    "fred = Fred(api_key=\"9ee5fbf7ac7d254b7ebcaff0633be1e4\")\n",
    "treasury_rate = fred.get_series_latest_release(\"GS10\")/100\n",
    "\n",
    "risk_free_rate = treasury_rate.iloc[-1]\n",
    "print(risk_free_rate)"
   ]
  },
  {
   "cell_type": "markdown",
   "metadata": {},
   "source": [
    "Scipy.optimize.minimize() function is being used so we have to find the negative sharpe ration"
   ]
  },
  {
   "cell_type": "code",
   "execution_count": 14,
   "metadata": {},
   "outputs": [],
   "source": [
    "def neg_sharpe_ratio (weights, log_return, cov_matrix, risk_free_rate):\n",
    "    return(-sharpe_ratio(weights,log_return,cov_matrix,risk_free_rate))"
   ]
  },
  {
   "cell_type": "code",
   "execution_count": 15,
   "metadata": {},
   "outputs": [],
   "source": [
    "constraints = {\"type\": \"eq\",\"fun\": lambda weights: np.sum(weights)-1}\n",
    "bounds = [(0,0.5) for _ in range(len(tickers))]"
   ]
  },
  {
   "cell_type": "code",
   "execution_count": 16,
   "metadata": {},
   "outputs": [
    {
     "name": "stdout",
     "output_type": "stream",
     "text": [
      "[0.2 0.2 0.2 0.2 0.2]\n"
     ]
    }
   ],
   "source": [
    "init_weights = np.array([1/len(tickers)]*len(tickers))\n",
    "print(init_weights)"
   ]
  },
  {
   "cell_type": "markdown",
   "metadata": {},
   "source": [
    "SLSQP stands for \"Sequential Least Squares Programming,\" and it is a type of numerical optimization algorithm used to solve constrained nonlinear optimization problems. The SLSQP algorithm is particularly well-suited for problems with both equality and inequality constraints.\n",
    "\n",
    "In the context of finance and portfolio optimization, SLSQP can be employed to find the optimal weights for different assets in a portfolio. The objective is typically to maximize returns while considering various constraints, such as risk tolerance, target return, and limits on the allocation to individual assets.\n",
    "\n",
    "The algorithm starts with an initial set of weights and iteratively updates them to find the optimal solution. It employs a combination of gradient-based optimization techniques (utilizing derivatives) and quadratic programming to handle the constraints efficiently."
   ]
  },
  {
   "cell_type": "code",
   "execution_count": 22,
   "metadata": {},
   "outputs": [
    {
     "name": "stdout",
     "output_type": "stream",
     "text": [
      "     fun: -0.5699227735732176\n",
      "     jac: array([-0.09319892,  0.02426337, -0.27441704, -0.20148151, -0.03582346])\n",
      " message: 'Optimization terminated successfully'\n",
      "    nfev: 24\n",
      "     nit: 4\n",
      "    njev: 4\n",
      "  status: 0\n",
      " success: True\n",
      "       x: array([3.40005801e-16, 0.00000000e+00, 5.00000000e-01, 5.00000000e-01,\n",
      "       2.08166817e-17])\n"
     ]
    }
   ],
   "source": [
    "opti_results = minimize(neg_sharpe_ratio,init_weights,args=(log_return,cov_matrix,risk_free_rate),method=\"SLSQP\", constraints=constraints,bounds=bounds)\n",
    "\n",
    "print(opti_results)"
   ]
  },
  {
   "cell_type": "code",
   "execution_count": 23,
   "metadata": {},
   "outputs": [
    {
     "name": "stdout",
     "output_type": "stream",
     "text": [
      "[3.40005801e-16 0.00000000e+00 5.00000000e-01 5.00000000e-01\n",
      " 2.08166817e-17]\n"
     ]
    }
   ],
   "source": [
    "optimal_weights = opti_results.x\n",
    "print(optimal_weights)"
   ]
  },
  {
   "cell_type": "code",
   "execution_count": 19,
   "metadata": {},
   "outputs": [
    {
     "name": "stdout",
     "output_type": "stream",
     "text": [
      "Optimal Weights:\n",
      "SPY: 0.0000\n",
      "BND: 0.0000\n",
      "GLD: 0.5000\n",
      "QQQ: 0.5000\n",
      "VTI: 0.0000\n",
      "\n",
      "Expected Annual Return: 0.1273\n",
      "Expected Volatility: 0.1576\n",
      "Sharpe Ratio: 0.5699\n"
     ]
    }
   ],
   "source": [
    "print (\"Optimal Weights:\")\n",
    "for ticker, weight in zip(tickers, optimal_weights):\n",
    "    print(f\"{ticker}: {weight:.4f}\")\n",
    "\n",
    "print ()\n",
    "\n",
    "optimal_portfolio_return = exp_return(optimal_weights, log_return)\n",
    "optimal_portfolio_volatility = std_dev(optimal_weights, cov_matrix)\n",
    "optimal_sharpe_ratio = sharpe_ratio(optimal_weights, log_return, cov_matrix, risk_free_rate)\n",
    "\n",
    "print (f\"Expected Annual Return: {optimal_portfolio_return:.4f}\")\n",
    "print (f\"Expected Volatility: {optimal_portfolio_volatility:.4f}\")\n",
    "print(f\"Sharpe Ratio: {optimal_sharpe_ratio:.4f}\")"
   ]
  },
  {
   "cell_type": "code",
   "execution_count": 21,
   "metadata": {},
   "outputs": [
    {
     "data": {
      "image/png": "[encoded data removed]",
      "text/plain": [
       "<Figure size 720x432 with 1 Axes>"
      ]
     },
     "metadata": {
      "needs_background": "light"
     },
     "output_type": "display_data"
    }
   ],
   "source": [
    "plt.figure(figsize=(10,6))\n",
    "plt.bar(tickers, optimal_weights)\n",
    "\n",
    "plt.xlabel(\"Assets\")\n",
    "plt.ylabel(\"Optimal Weights\")\n",
    "plt.title(\"Optimal Portfolio Weights\")\n",
    "\n",
    "plt.show()"
   ]
  }
 ],
 "metadata": {
  "kernelspec": {
   "display_name": "base",
   "language": "python",
   "name": "python3"
  },
  "language_info": {
   "codemirror_mode": {
    "name": "ipython",
    "version": 3
   },
   "file_extension": ".py",
   "mimetype": "text/x-python",
   "name": "python",
   "nbconvert_exporter": "python",
   "pygments_lexer": "ipython3",
   "version": "3.9.12"
  },
  "orig_nbformat": 4
 },
 "nbformat": 4,
 "nbformat_minor": 2
}
